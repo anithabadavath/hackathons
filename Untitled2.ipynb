{
 "cells": [
  {
   "cell_type": "code",
   "execution_count": 6,
   "metadata": {
    "tags": [
     "s1",
     "content"
    ]
   },
   "outputs": [
    {
     "ename": "SyntaxError",
     "evalue": "invalid syntax (<ipython-input-6-1243ba9e9cbd>, line 7)",
     "output_type": "error",
     "traceback": [
      "\u001b[0;36m  File \u001b[0;32m\"<ipython-input-6-1243ba9e9cbd>\"\u001b[0;36m, line \u001b[0;32m7\u001b[0m\n\u001b[0;31m    lesson_content...\u001b[0m\n\u001b[0m                    ^\u001b[0m\n\u001b[0;31mSyntaxError\u001b[0m\u001b[0;31m:\u001b[0m invalid syntax\n"
     ]
    }
   ],
   "source": [
    "\n",
    "                \n",
    "## lesson_name  \n",
    "                \n",
    "### lesson_subheading\n",
    "            \n",
    "lesson_content...\n",
    "Air qulality analysis "
   ]
  },
  {
   "cell_type": "code",
   "execution_count": null,
   "metadata": {
    "collapsed": true,
    "tags": [
     "s1",
     "ce"
    ]
   },
   "outputs": [],
   "source": [
    "%matplotlib inline \n",
    "from sklearn.cross_validation import cross_val_score\n",
    "from sklearn.linear_model import LogisticRegression\n",
    "from sklearn.cross_validation import train_test_split\n",
    "from sklearn import metrics\n",
    "from fnmatch import fnmatch\n",
    "import seaborn as sns\n",
    "import numpy as np\n",
    "from pandas import DataFrame, Series\n",
    "import pandas as pd\n",
    "import pandas.io.data as web\n",
    "import matplotlib.lpyplot as plt\n",
    "import requests\n",
    "from pattern import web\n",
    "from numpy.random import randn\n",
    "from dateutil.parser import parse\n",
    "from datetime import datetime\n",
    "\n",
    "\n",
    "# set some nicer defaults for matplotlib\n",
    "from matplotlib import rcParams\n",
    "rcParams['figure.figsize'] = (10, 6)\n",
    "rcParams['figure.dpi'] = 150\n",
    "rcParams['axes.color_cycle'] = dark2_colors\n",
    "rcParams['lines.linewidth'] = 2\n",
    "rcParams['axes.grid'] = True\n",
    "rcParams['axes.facecolor'] = '#eeeeee'\n",
    "rcParams['font.size'] = 14\n",
    "rcParams['patch.edgecolor'] = 'none'\n",
    "\n",
    "#Seaborn Settings\n",
    "#sns.set_pallete(\"deep\", desat=.6)\n",
    "sns.set_context(rc={\"figure.figsize\":(8,4)})"
   ]
  },
  {
   "cell_type": "code",
   "execution_count": null,
   "metadata": {
    "collapsed": true,
    "tags": [
     "s1",
     "hint"
    ]
   },
   "outputs": [],
   "source": [
    "\n",
    "# set some nicer defaults for matplotlib\n",
    "from matplotlib import rcParams\n",
    "rcParams['figure.figsize'] = (10, 6)\n",
    "rcParams['figure.dpi'] = 150\n",
    "rcParams['axes.color_cycle'] = dark2_colors\n",
    "rcParams['lines.linewidth'] = 2\n",
    "rcParams['axes.grid'] = True\n",
    "rcParams['axes.facecolor'] = '#eeeeee'\n",
    "rcParams['font.size'] = 14\n",
    "rcParams['patch.edgecolor'] = 'none'\n",
    "\n",
    "#Seaborn Settings\n",
    "#sns.set_pallete(\"deep\", desat=.6)\n",
    "sns.set_context(rc={\"figure.figsize\":(8,4)})"
   ]
  },
  {
   "cell_type": "code",
   "execution_count": null,
   "metadata": {
    "collapsed": true,
    "tags": [
     "s1",
     "ans"
    ]
   },
   "outputs": [],
   "source": [
    "data = pd.read_csv('/Users/Olujuwon/AirQuality/AirQualityDataHourly.csv', parse_dates=True)\n",
    "cdata = pd.read_csv('/Users/Olujuwon/AirQuality/AirQualityDataHourly-Control.csv', parse_dates=True)\n",
    "#index_col = 'Date'\n",
    "#parse_dates=True,\n",
    "#keep_date_col=Truedata = pd.read_csv('/Users/Olujuwon/AirQuality/AirQualityDataHourly.csv', parse_dates=True)"
   ]
  },
  {
   "cell_type": "code",
   "execution_count": null,
   "metadata": {
    "collapsed": true,
    "tags": [
     "s1",
     "hid"
    ]
   },
   "outputs": [],
   "source": [
    "df = DataFrame(data, columns=['time', 'PM10 particulate matter (Hourly measured)', 'Nitrogen dioxide', 'Non-volatile PM2.5 (Hourly measured)', 'Ozone', 'Sulphur dioxide'])\n",
    "df2 = DataFrame(cdata, columns=['time', 'PM10 particulate matter (Hourly measured)', 'Nitrogen dioxide', 'Non-volatile PM2.5 (Hourly measured)', 'Ozone', 'Sulphur dioxide'])"
   ]
  }
 ],
 "metadata": {
  "executed_sections": [],
  "kernelspec": {
   "display_name": "Python 3",
   "language": "python",
   "name": "python3"
  },
  "language_info": {
   "codemirror_mode": {
    "name": "ipython",
    "version": 3
   },
   "file_extension": ".py",
   "mimetype": "text/x-python",
   "name": "python",
   "nbconvert_exporter": "python",
   "pygments_lexer": "ipython3",
   "version": "3.5.2"
  }
 },
 "nbformat": 4,
 "nbformat_minor": 2
}